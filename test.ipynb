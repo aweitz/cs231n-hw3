{
 "cells": [
  {
   "cell_type": "code",
   "execution_count": 1,
   "metadata": {
    "collapsed": false
   },
   "outputs": [
    {
     "name": "stdout",
     "output_type": "stream",
     "text": [
      "[[[ 0  1  2  3]\n",
      "  [ 4  5  6  7]\n",
      "  [ 8  9 10 11]]\n",
      "\n",
      " [[12 13 14 15]\n",
      "  [16 17 18 19]\n",
      "  [20 21 22 23]]]\n",
      "\n",
      "(6, 4)\n",
      "[[ 0  1  2  3]\n",
      " [ 4  5  6  7]\n",
      " [ 8  9 10 11]\n",
      " [12 13 14 15]\n",
      " [16 17 18 19]\n",
      " [20 21 22 23]]\n"
     ]
    }
   ],
   "source": [
    "import numpy as np\n",
    "\n",
    "x = np.arange(24).reshape((2,3,4))\n",
    "print(x)\n",
    "print()\n",
    "\n",
    "y = x.reshape((6,-1))\n",
    "print(y.shape)\n",
    "print(y)"
   ]
  },
  {
   "cell_type": "code",
   "execution_count": 2,
   "metadata": {
    "collapsed": false
   },
   "outputs": [
    {
     "name": "stdout",
     "output_type": "stream",
     "text": [
      "hi\n",
      "no\n"
     ]
    }
   ],
   "source": [
    "if 1==1: print('hi'), print('no')"
   ]
  },
  {
   "cell_type": "code",
   "execution_count": 3,
   "metadata": {
    "collapsed": false
   },
   "outputs": [
    {
     "name": "stdout",
     "output_type": "stream",
     "text": [
      "4\n"
     ]
    }
   ],
   "source": [
    "x = np.ravel_multi_index((0,2),dims=(2,3),order='F')\n",
    "print(x)"
   ]
  },
  {
   "cell_type": "code",
   "execution_count": 11,
   "metadata": {
    "collapsed": false
   },
   "outputs": [
    {
     "name": "stdout",
     "output_type": "stream",
     "text": [
      "[[ 0  1  2  3  4  5]\n",
      " [ 6  7  8  9 10 11]\n",
      " [12 13 14 15 16 17]\n",
      " [18 19 20 21 22 23]]\n",
      "\n",
      "[[ 1  2  3  4  5]\n",
      " [ 7  8  9 10 11]\n",
      " [13 14 15 16 17]\n",
      " [19 20 21 22 23]]\n",
      "\n",
      "[[ 0  1  2  3  4]\n",
      " [ 6  7  8  9 10]\n",
      " [12 13 14 15 16]\n",
      " [18 19 20 21 22]]\n"
     ]
    }
   ],
   "source": [
    "x = np.arange(24).reshape((4,6))\n",
    "print(x)\n",
    "y = x[:,1:]\n",
    "\n",
    "print()\n",
    "print(y)\n",
    "\n",
    "z = x[:,:-1]\n",
    "\n",
    "print()\n",
    "print(z)"
   ]
  },
  {
   "cell_type": "code",
   "execution_count": 21,
   "metadata": {
    "collapsed": false
   },
   "outputs": [
    {
     "name": "stdout",
     "output_type": "stream",
     "text": [
      "[[ 0  1  2  3  4  5]\n",
      " [ 6  7  8  9 10 11]\n",
      " [12 13 14 15 16 17]\n",
      " [18 19 20 21 22 23]]\n",
      "\n",
      "[[ 6  7  8  9 10 11]]\n"
     ]
    }
   ],
   "source": [
    "import tensorflow as tf\n",
    "\n",
    "x = tf.constant(np.arange(24).reshape((4,6)))\n",
    "\n",
    "begin = [1,0]\n",
    "size = [1,6]\n",
    "y = tf.slice(x,begin,size)\n",
    "\n",
    "with tf.Session() as sess:   \n",
    "    xval = sess.run(x)\n",
    "    yval = sess.run(y)\n",
    "    print(xval)\n",
    "    print()\n",
    "    print(yval)\n"
   ]
  },
  {
   "cell_type": "code",
   "execution_count": 2,
   "metadata": {
    "collapsed": false
   },
   "outputs": [
    {
     "name": "stdout",
     "output_type": "stream",
     "text": [
      "[[-8 -7 -6 -5 -4 -3]\n",
      " [-2 -1  0  1  2  3]\n",
      " [ 4  5  6  7  8  9]\n",
      " [10 11 12 13 14 15]]\n",
      "\n",
      "[[ 0  0  0  0  0  0]\n",
      " [ 0  0  0  1  2  3]\n",
      " [ 4  5  6  7  8  9]\n",
      " [10 11 12 13 14 15]]\n"
     ]
    }
   ],
   "source": [
    "import numpy as np\n",
    "import tensorflow as tf\n",
    "\n",
    "x = tf.constant(np.arange(24).reshape((4,6))-8)\n",
    "y = tf.maximum(x,0)\n",
    "\n",
    "with tf.Session() as sess:   \n",
    "    xval = sess.run(x)\n",
    "    yval = sess.run(y)\n",
    "    print(xval)\n",
    "    print()\n",
    "    print(yval)"
   ]
  },
  {
   "cell_type": "code",
   "execution_count": 3,
   "metadata": {
    "collapsed": false
   },
   "outputs": [
    {
     "name": "stdout",
     "output_type": "stream",
     "text": [
      "(2, 12)\n",
      "(2, 3, 4)\n"
     ]
    }
   ],
   "source": [
    "import numpy as np\n",
    "\n",
    "x = np.arange(24).reshape((2,12))\n",
    "print(x.shape)\n",
    "\n",
    "x = np.reshape(x,[-1,3,4])\n",
    "print(x.shape)"
   ]
  },
  {
   "cell_type": "code",
   "execution_count": null,
   "metadata": {
    "collapsed": true
   },
   "outputs": [],
   "source": []
  }
 ],
 "metadata": {
  "kernelspec": {
   "display_name": "Python 3",
   "language": "python",
   "name": "python3"
  },
  "language_info": {
   "codemirror_mode": {
    "name": "ipython",
    "version": 3
   },
   "file_extension": ".py",
   "mimetype": "text/x-python",
   "name": "python",
   "nbconvert_exporter": "python",
   "pygments_lexer": "ipython3",
   "version": "3.5.2"
  }
 },
 "nbformat": 4,
 "nbformat_minor": 0
}
